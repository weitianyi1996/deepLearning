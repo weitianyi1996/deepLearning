{
 "cells": [
  {
   "cell_type": "markdown",
   "metadata": {},
   "source": [
    "### Fully Feedforward Neural Network"
   ]
  },
  {
   "cell_type": "markdown",
   "metadata": {},
   "source": [
    "conda info --envs\n",
    "source activate anaconda3/envs/venv \n",
    "#switch anaconda virtual machine environment"
   ]
  },
  {
   "cell_type": "code",
   "execution_count": 4,
   "metadata": {},
   "outputs": [
    {
     "name": "stderr",
     "output_type": "stream",
     "text": [
      "Using TensorFlow backend.\n"
     ]
    }
   ],
   "source": [
    "import keras\n",
    "from keras.models import Sequential\n",
    "from keras.layers import Dense\n",
    "import numpy"
   ]
  },
  {
   "cell_type": "code",
   "execution_count": null,
   "metadata": {},
   "outputs": [],
   "source": [
    "#define the model\n",
    "model = Sequential()\n",
    "model.add(Dense(12, input_dim=8, activation='relu')) \n",
    "model.add(Dense(8, activation='relu'))\n",
    "model.add(Dense(1, activation='sigmoid'))\n",
    "\n",
    "#compile the model\n",
    "model.compile(loss='binary_crossentropy',optimizer='adam',metrics=['accuracy'])\n",
    "\n",
    "#train the model\n",
    "model.fit(X,Y,epochs=150,batch_size=10)"
   ]
  },
  {
   "cell_type": "markdown",
   "metadata": {},
   "source": [
    "### Twitter Sentiment Analysis"
   ]
  },
  {
   "cell_type": "code",
   "execution_count": 6,
   "metadata": {},
   "outputs": [],
   "source": [
    "import keras\n",
    "from keras.layers import Dense\n",
    "import numpy as np\n",
    "import pandas as pd\n",
    "from sklearn.feature_extraction.text import CountVectorizer\n",
    "from keras.models import Sequential\n",
    "from sklearn.model_selection import train_test_split\n",
    "from keras.layers import Dropout"
   ]
  },
  {
   "cell_type": "code",
   "execution_count": 19,
   "metadata": {},
   "outputs": [
    {
     "data": {
      "text/html": [
       "<div>\n",
       "<style scoped>\n",
       "    .dataframe tbody tr th:only-of-type {\n",
       "        vertical-align: middle;\n",
       "    }\n",
       "\n",
       "    .dataframe tbody tr th {\n",
       "        vertical-align: top;\n",
       "    }\n",
       "\n",
       "    .dataframe thead th {\n",
       "        text-align: right;\n",
       "    }\n",
       "</style>\n",
       "<table border=\"1\" class=\"dataframe\">\n",
       "  <thead>\n",
       "    <tr style=\"text-align: right;\">\n",
       "      <th></th>\n",
       "      <th>ItemID</th>\n",
       "      <th>Sentiment</th>\n",
       "      <th>SentimentText</th>\n",
       "    </tr>\n",
       "  </thead>\n",
       "  <tbody>\n",
       "    <tr>\n",
       "      <th>0</th>\n",
       "      <td>1</td>\n",
       "      <td>0</td>\n",
       "      <td>is so sad for my APL frie...</td>\n",
       "    </tr>\n",
       "    <tr>\n",
       "      <th>1</th>\n",
       "      <td>2</td>\n",
       "      <td>0</td>\n",
       "      <td>I missed the New Moon trail...</td>\n",
       "    </tr>\n",
       "    <tr>\n",
       "      <th>2</th>\n",
       "      <td>3</td>\n",
       "      <td>1</td>\n",
       "      <td>omg its already 7:30 :O</td>\n",
       "    </tr>\n",
       "    <tr>\n",
       "      <th>3</th>\n",
       "      <td>4</td>\n",
       "      <td>0</td>\n",
       "      <td>.. Omgaga. Im sooo  im gunna CRy. I'...</td>\n",
       "    </tr>\n",
       "    <tr>\n",
       "      <th>4</th>\n",
       "      <td>5</td>\n",
       "      <td>0</td>\n",
       "      <td>i think mi bf is cheating on me!!!   ...</td>\n",
       "    </tr>\n",
       "  </tbody>\n",
       "</table>\n",
       "</div>"
      ],
      "text/plain": [
       "   ItemID  Sentiment                                      SentimentText\n",
       "0       1          0                       is so sad for my APL frie...\n",
       "1       2          0                     I missed the New Moon trail...\n",
       "2       3          1                            omg its already 7:30 :O\n",
       "3       4          0            .. Omgaga. Im sooo  im gunna CRy. I'...\n",
       "4       5          0           i think mi bf is cheating on me!!!   ..."
      ]
     },
     "execution_count": 19,
     "metadata": {},
     "output_type": "execute_result"
    }
   ],
   "source": [
    "data=pd.read_csv(\"/Users/wty24/Desktop/2019SpringTerm/758B/Lab/lab1/train_validation.csv\",delimiter=\",\",encoding='latin-1')\n",
    "data.head()"
   ]
  },
  {
   "cell_type": "code",
   "execution_count": 30,
   "metadata": {},
   "outputs": [],
   "source": [
    "Text=data['SentimentText'].values\n",
    "Label=data['Sentiment'].values\n",
    "\n",
    "text_train,text_test,label_train,label_test=train_test_split(Text,Label,test_size=0.2)\n",
    "\n",
    "vectorizer = CountVectorizer()\n",
    "vectorizer.fit(Text) #use all words to create Bag Of Unique Words(Matrix)\n",
    "\n",
    "X_train=vectorizer.transform(text_train)#create sparse matrix\n",
    "X_test=vectorizer.transform(text_test)\n",
    "\n",
    "input_col=X_train.shape[1]\n",
    "y_train,y_test=label_train,label_test"
   ]
  },
  {
   "cell_type": "code",
   "execution_count": 32,
   "metadata": {},
   "outputs": [
    {
     "name": "stdout",
     "output_type": "stream",
     "text": [
      "WARNING:tensorflow:From /anaconda3/lib/python3.7/site-packages/tensorflow/python/ops/math_ops.py:3066: to_int32 (from tensorflow.python.ops.math_ops) is deprecated and will be removed in a future version.\n",
      "Instructions for updating:\n",
      "Use tf.cast instead.\n",
      "Epoch 1/5\n",
      "80000/80000 [==============================] - 307s 4ms/step - loss: 0.6841 - acc: 0.5482\n",
      "Epoch 2/5\n",
      "80000/80000 [==============================] - 295s 4ms/step - loss: 0.6340 - acc: 0.5646\n",
      "Epoch 3/5\n",
      "80000/80000 [==============================] - 300s 4ms/step - loss: 0.5457 - acc: 0.7064\n",
      "Epoch 4/5\n",
      "80000/80000 [==============================] - 300s 4ms/step - loss: 0.4597 - acc: 0.8069\n",
      "Epoch 5/5\n",
      "80000/80000 [==============================] - 302s 4ms/step - loss: 0.3756 - acc: 0.8451\n"
     ]
    },
    {
     "data": {
      "text/plain": [
       "<keras.callbacks.History at 0x1a44bb72b0>"
      ]
     },
     "execution_count": 32,
     "metadata": {},
     "output_type": "execute_result"
    }
   ],
   "source": [
    "#Fully Connected Neural Network\n",
    "\n",
    "#define the model\n",
    "#this Neural Network's structure is:\n",
    "#1 input layer\n",
    "#4 hidden layer,each with 500 neurons, using 'relu' as activation\n",
    "#1 output layer, with 'sigmoid' activation\n",
    "model = Sequential()\n",
    "model.add(Dense(500, input_dim=input_col, activation='relu')) \n",
    "model.add(Dropout(0.5))\n",
    "model.add(Dense(500, activation='relu'))\n",
    "model.add(Dropout(0.5))\n",
    "model.add(Dense(500, activation='relu'))\n",
    "model.add(Dropout(0.5))\n",
    "model.add(Dense(1, activation='sigmoid'))\n",
    "\n",
    "#compile the model\n",
    "model.compile(loss='binary_crossentropy',optimizer='adam',metrics=['accuracy'])\n",
    "\n",
    "#train the model\n",
    "model.fit(X_train,y_train,batch_size=20000,epochs=5)#this set will totally update 80000/20000*5 times paramets"
   ]
  },
  {
   "cell_type": "code",
   "execution_count": 33,
   "metadata": {},
   "outputs": [
    {
     "name": "stdout",
     "output_type": "stream",
     "text": [
      "20000/20000 [==============================] - 35s 2ms/step\n",
      "Accuracy of testing data is: 0.76745\n"
     ]
    }
   ],
   "source": [
    "#evaluate the model\n",
    "scores=model.evaluate(X_test,y_test)\n",
    "print('Accuracy of testing data is:',scores[1])"
   ]
  },
  {
   "cell_type": "markdown",
   "metadata": {},
   "source": [
    "Loss function:\n",
    "    1.mse\n",
    "    2.cross entropy: log(1-(yi^-yi))#be used when yi range(0,1) \n",
    "How to update? gradient descent-->use back propapagation to calculate partial derivative\n",
    "\n",
    "Mini-batch size\n",
    "    When updating the parameter within each epoch, the data is shuffle in each mini batch\n",
    "    \n",
    "Activation:\n",
    "    1.ReLU(x>0:x;x<0:0)--less neuron\n",
    "\n",
    "Learning Rate:\n",
    "    lr/[(t**1/2)+1]\n",
    "    Adagrad: lr--f(l/w partial derivative)\n",
    "\n",
    "Overfitting:\n",
    "    1.create more data()\n",
    "    2.regularzation:add penlty to large weights\n",
    "    3.Dropout: each neuron has p%prob to be drop out\n",
    "     the neural network structure for each batch training is changing"
   ]
  },
  {
   "cell_type": "code",
   "execution_count": null,
   "metadata": {},
   "outputs": [],
   "source": []
  },
  {
   "cell_type": "code",
   "execution_count": null,
   "metadata": {},
   "outputs": [],
   "source": []
  }
 ],
 "metadata": {
  "kernelspec": {
   "display_name": "Python 3",
   "language": "python",
   "name": "python3"
  },
  "language_info": {
   "codemirror_mode": {
    "name": "ipython",
    "version": 3
   },
   "file_extension": ".py",
   "mimetype": "text/x-python",
   "name": "python",
   "nbconvert_exporter": "python",
   "pygments_lexer": "ipython3",
   "version": "3.7.0"
  }
 },
 "nbformat": 4,
 "nbformat_minor": 2
}
